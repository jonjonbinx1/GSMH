{
 "cells": [
  {
   "cell_type": "markdown",
   "id": "4cda7fce",
   "metadata": {
    "scrolled": false
   },
   "source": [
    "# Feature Engineering & Clustering/Segmentation Analysis"
   ]
  },
  {
   "cell_type": "markdown",
   "id": "3c590563",
   "metadata": {},
   "source": [
    "## Author: Nika Faraji"
   ]
  },
  {
   "cell_type": "markdown",
   "id": "535551ed",
   "metadata": {},
   "source": [
    "### Data Science Capstone"
   ]
  },
  {
   "cell_type": "code",
   "execution_count": null,
   "id": "fcfcfb46",
   "metadata": {},
   "outputs": [],
   "source": [
    "import sys\n",
    "import numpy as np\n",
    "import pandas as pd\n",
    "\n",
    "df = pd.read_csv('data/aggregated_data.csv')\n",
    "df"
   ]
  },
  {
   "cell_type": "code",
   "execution_count": 27,
   "id": "f6e3feeb",
   "metadata": {},
   "outputs": [],
   "source": [
    "#JH: Good use of custom function, it might make the rest of the code\n",
    "#easier to read if more were used\n",
    "def calcSplitRatio(df, p=36):\n",
    "\n",
    "    ## Calculate ideal number for testing set\n",
    "    test_N = (1 / np.sqrt(p)) * len(df)\n",
    "    \n",
    "    ## Calculate testing proportion\n",
    "    test_prop = round(test_N / len(df), 2)\n",
    "    \n",
    "    ## Calculate training proportion\n",
    "    train_prop = 1 - test_prop\n",
    "    \n",
    "    ## Print the results\n",
    "    print(f\"The ideal split ratio is {train_prop}:{test_prop} training:testing\")\n",
    "    \n",
    "    ## Return the size of the training set proportion\n",
    "    return train_prop"
   ]
  },
  {
   "cell_type": "code",
   "execution_count": null,
   "id": "fa1aed17",
   "metadata": {},
   "outputs": [],
   "source": [
    "# Example usage of calcSplitRatio\n",
    "train_prop = calcSplitRatio(df, p=50)\n",
    "train_prop"
   ]
  },
  {
   "cell_type": "code",
   "execution_count": null,
   "id": "04678079",
   "metadata": {
    "scrolled": true
   },
   "outputs": [],
   "source": [
    "correlation_matrix"
   ]
  },
  {
   "cell_type": "code",
   "execution_count": null,
   "id": "0d5b97a6",
   "metadata": {},
   "outputs": [],
   "source": [
    "#JH: This would be a good place to use a custom function, it doesnt need to do much\n",
    "#just seems that youre using the notebook code blocks as substitutes for functions\n",
    "#Not a huge problem in a project like this but can introduce problems when scaling\n",
    "import pandas as pd\n",
    "from sklearn.cluster import KMeans\n",
    "from sklearn.preprocessing import StandardScaler\n",
    "import matplotlib.pyplot as plt\n",
    "from sklearn.metrics import silhouette_score\n",
    "\n",
    "\n",
    "#Feature Selection\n",
    "features = ['UTIL_RATE', 'median_anxiety', 'median_depression', 'median_PTSD', 'median_ADHD', 'median_bipolar', \n",
    "           'max_psychiatrists near me','max_therapist near me', 'max_mental hospital']  # Replace with your actual column names\n",
    "X = df[features]\n",
    "\n",
    "# Feature Scaling\n",
    "scaler = StandardScaler()\n",
    "X_scaled = scaler.fit_transform(X)\n",
    "\n",
    "# Determine Optimal k\n",
    "inertia = []\n",
    "silhouette_scores = []\n",
    "k_range = range(2, 11)  # Testing from 2 to 10 clusters\n",
    "\n",
    "for k in k_range:\n",
    "    kmeans = KMeans(n_clusters=k, random_state=42)\n",
    "    kmeans.fit(X_scaled)\n",
    "    inertia.append(kmeans.inertia_)\n",
    "    silhouette_scores.append(silhouette_score(X_scaled, kmeans.labels_))\n",
    "\n",
    "# Plot Elbow Method\n",
    "plt.figure(figsize=(10, 5))\n",
    "plt.plot(k_range, inertia, marker='o')\n",
    "plt.title('Elbow Method')\n",
    "plt.xlabel('Number of Clusters')\n",
    "plt.ylabel('Inertia')\n",
    "plt.show()"
   ]
  },
  {
   "cell_type": "code",
   "execution_count": null,
   "id": "647657e9",
   "metadata": {},
   "outputs": [],
   "source": [
    "# Fit K-means with Optimal Clusters\n",
    "optimal_k = 3  # Replace with the number of clusters determined\n",
    "kmeans = KMeans(n_clusters=optimal_k, random_state=42)\n",
    "clusters = kmeans.fit_predict(X_scaled)\n",
    "\n",
    "# Add Clusters to Original DataFrame\n",
    "df['Cluster'] = clusters\n",
    "\n",
    "# Analyze Clusters\n",
    "print(df.groupby('Cluster').mean())  # Check the mean values of features in each cluster\n",
    "\n",
    "# Visualize Clusters \n",
    "plt.scatter(X_scaled[:, 0], X_scaled[:, 1], c=clusters, cmap='viridis')\n",
    "plt.title('Cluster Visualization')\n",
    "plt.xlabel('Feature 1')\n",
    "plt.ylabel('Feature 2')\n",
    "plt.colorbar(label='Cluster')\n",
    "plt.show()\n"
   ]
  },
  {
   "cell_type": "code",
   "execution_count": null,
   "id": "03aa6418",
   "metadata": {},
   "outputs": [],
   "source": [
    "#JH: Contains redundant imports, consider moving all imports to the top of the file to make it easier to spot\n",
    "import seaborn as sns\n",
    "import matplotlib.pyplot as plt\n",
    "\n",
    "#Visualize the distribution of a key feature across clusters\n",
    "sns.boxplot(x='Cluster', y='median_anxiety', data=df_with_clusters) #can use diff features to compare\n",
    "plt.title(f\"Distribution of {feature} Across Clusters\")\n",
    "plt.show()"
   ]
  },
  {
   "cell_type": "code",
   "execution_count": null,
   "id": "08548cbc",
   "metadata": {},
   "outputs": [],
   "source": [
    "from pandas.plotting import parallel_coordinates\n",
    "\n",
    "parallel_coordinates(df, class_column='Cluster', cols=features, color=['r', 'g', 'b'])\n",
    "plt.title('Parallel Coordinates Plot for Clusters')\n",
    "plt.xticks(rotation=45)\n",
    "plt.show()"
   ]
  },
  {
   "cell_type": "code",
   "execution_count": null,
   "id": "7b496bec",
   "metadata": {},
   "outputs": [],
   "source": [
    "from sklearn.decomposition import PCA\n",
    "\n",
    "pca = PCA(n_components=2)\n",
    "X_pca = pca.fit_transform(X_scaled)\n",
    "\n",
    "# Add PCA to DataFrame\n",
    "df['PCA1'] = X_pca[:, 0]\n",
    "df['PCA2'] = X_pca[:, 1]\n",
    "\n",
    "# Visualize\n",
    "sns.scatterplot(x='PCA1', y='PCA2', hue='Cluster', data=df, palette='viridis')\n",
    "plt.title('Clusters Visualized Using PCA')\n",
    "plt.show()\n",
    "\n",
    "# Print feature contributions to PCA components\n",
    "print(pd.DataFrame(pca.components_, columns=features, index=['PCA1', 'PCA2']))\n"
   ]
  },
  {
   "cell_type": "code",
   "execution_count": null,
   "id": "a09000de",
   "metadata": {},
   "outputs": [],
   "source": [
    "from sklearn.tree import DecisionTreeClassifier\n",
    "from sklearn.inspection import permutation_importance\n",
    "\n",
    "# Train a decision tree to predict clusters\n",
    "clf = DecisionTreeClassifier(random_state=42)\n",
    "clf.fit(X_scaled, kmeans.labels_)\n",
    "\n",
    "# Get feature importances\n",
    "importances = clf.feature_importances_\n",
    "importance_df = pd.DataFrame({'Feature': features, 'Importance': importances}).sort_values(by='Importance', ascending=False)\n",
    "print(importance_df)\n"
   ]
  },
  {
   "cell_type": "code",
   "execution_count": null,
   "id": "7b7fade8",
   "metadata": {},
   "outputs": [],
   "source": [
    "import pandas as pd\n",
    "\n",
    "# Assuming `kmeans` is your fitted K-means model\n",
    "cluster_centers = pd.DataFrame(kmeans.cluster_centers_, columns=features)\n",
    "\n",
    "# Display cluster centers (features for each cluster)\n",
    "print(cluster_centers)\n",
    "\n",
    "import seaborn as sns\n",
    "import matplotlib.pyplot as plt\n",
    "\n",
    "# Plot heatmap of cluster centers\n",
    "plt.figure(figsize=(10, 6))\n",
    "sns.heatmap(cluster_centers, annot=True, cmap='coolwarm', fmt='.2f')\n",
    "plt.title('Cluster Centers (Centroids)')\n",
    "plt.show()\n"
   ]
  },
  {
   "cell_type": "code",
   "execution_count": null,
   "id": "b70cd8c8",
   "metadata": {},
   "outputs": [],
   "source": [
    "for i in range(len(cluster_centers)):\n",
    "    print(f\"Top features for Cluster {i}:\")\n",
    "    print(cluster_centers.iloc[i].sort_values(ascending=False).head(5))  # Top 5 features\n",
    "    print()\n"
   ]
  },
  {
   "cell_type": "code",
   "execution_count": null,
   "id": "cd694eaf",
   "metadata": {},
   "outputs": [],
   "source": []
  }
 ],
 "metadata": {
  "kernelspec": {
   "display_name": "Python 3 (ipykernel)",
   "language": "python",
   "name": "python3"
  },
  "language_info": {
   "codemirror_mode": {
    "name": "ipython",
    "version": 3
   },
   "file_extension": ".py",
   "mimetype": "text/x-python",
   "name": "python",
   "nbconvert_exporter": "python",
   "pygments_lexer": "ipython3",
   "version": "3.9.7"
  }
 },
 "nbformat": 4,
 "nbformat_minor": 5
}
