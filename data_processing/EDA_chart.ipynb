{
 "cells": [
  {
   "cell_type": "markdown",
   "metadata": {},
   "source": [
    "# Generate Visualizations for Aggregated Data\n",
    "## Author: John Hennigan\n",
    "### This notebook can be used to generate various charts and tables showcasing correlations for the aggregated dataset"
   ]
  },
  {
   "cell_type": "code",
   "execution_count": 2,
   "metadata": {},
   "outputs": [],
   "source": [
    "import pandas as pd\n",
    "import seaborn as sns\n",
    "import matplotlib.pyplot as plt"
   ]
  },
  {
   "cell_type": "code",
   "execution_count": null,
   "metadata": {},
   "outputs": [],
   "source": [
    "#read data\n",
    "full_df = pd.read_csv(\"../data/aggregated_data.csv\")\n",
    "df = full_df[[\"mean_ADHD\", \"mean_anxiety\", \"mean_PTSD\", \"mean_bipolar\", \"mean_depression\"]]\n",
    "# Pairplot\n",
    "sns.pairplot(df)\n",
    "plt.show()\n",
    "\n",
    "    "
   ]
  },
  {
   "cell_type": "code",
   "execution_count": null,
   "metadata": {},
   "outputs": [],
   "source": [
    "search_df = full_df[[\"mean_mental hospital\", \"mean_psychiatrists near me\",\"mean_psychologist near me\", \"mean_therapist near me\"]]\n",
    "sns.pairplot(search_df)\n",
    "plt.show()"
   ]
  }
 ],
 "metadata": {
  "kernelspec": {
   "display_name": "Python 3",
   "language": "python",
   "name": "python3"
  },
  "language_info": {
   "codemirror_mode": {
    "name": "ipython",
    "version": 3
   },
   "file_extension": ".py",
   "mimetype": "text/x-python",
   "name": "python",
   "nbconvert_exporter": "python",
   "pygments_lexer": "ipython3",
   "version": "3.11.8"
  }
 },
 "nbformat": 4,
 "nbformat_minor": 2
}
