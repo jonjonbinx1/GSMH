{
 "cells": [
  {
   "cell_type": "code",
   "execution_count": 62,
   "metadata": {},
   "outputs": [],
   "source": [
    "#imports\n",
    "import pandas as pd"
   ]
  },
  {
   "cell_type": "code",
   "execution_count": 63,
   "metadata": {},
   "outputs": [],
   "source": [
    "#load original dfs\n",
    "original_df = pd.read_csv(\"../data/aggregated_data.csv\")"
   ]
  },
  {
   "cell_type": "code",
   "execution_count": 70,
   "metadata": {},
   "outputs": [],
   "source": [
    "#methods to create change_by_year data\n",
    "\n",
    "def generateChangeDataFeatureColumns(df, column):\n",
    "    df[f'{column}_val_change'] = None \n",
    "    df[f'{column}_perc_change'] = None \n",
    "    # Create an empty DataFrame with the same columns as the original one \n",
    "    new_df = pd.DataFrame(columns=df.columns) \n",
    "    # Get unique states and years \n",
    "    states = df[\"STATE\"].unique() \n",
    "    years = df[\"YEAR\"].unique() \n",
    "    # Iterate over states and years \n",
    "    for state in states: \n",
    "        for year in years: \n",
    "            if year - 1 in years: \n",
    "                row = df[(df['STATE'] == state) & (df['YEAR'] == year)].copy() \n",
    "                last_years_row = df[(df['STATE'] == state) & (df['YEAR'] == year - 1)] \n",
    "                if not row.empty and not last_years_row.empty: \n",
    "                    current_value = row[column].values[0] \n",
    "                    last_value = last_years_row[column].values[0] \n",
    "                    # Calculate the value change and percentage change \n",
    "                    row[f'{column}_val_change'] = current_value - last_value \n",
    "                    row[f'{column}_perc_change'] = (current_value - last_value) / last_value \n",
    "                    new_df = pd.concat([new_df, row]) \n",
    "                else: print(f\"No data found for State: {state}, Year: {year} or Year: {year - 1}\") \n",
    "            else: \n",
    "                print(f'No previous year found for Year: {year} in State: {state}')\n",
    "\n",
    "    return new_df\n",
    "\n"
   ]
  },
  {
   "cell_type": "code",
   "execution_count": 71,
   "metadata": {},
   "outputs": [
    {
     "name": "stderr",
     "output_type": "stream",
     "text": [
      "C:\\Users\\johnb\\AppData\\Local\\Temp\\ipykernel_35712\\635169708.py:23: FutureWarning: The behavior of DataFrame concatenation with empty or all-NA entries is deprecated. In a future version, this will no longer exclude empty or all-NA columns when determining the result dtypes. To retain the old behavior, exclude the relevant entries before the concat operation.\n",
      "  new_df = pd.concat([new_df, row])\n"
     ]
    },
    {
     "name": "stdout",
     "output_type": "stream",
     "text": [
      "No previous year found for Year: 2013 in State: AL\n",
      "No data found for State: AK, Year: 2019 or Year: 2018\n",
      "No data found for State: AK, Year: 2018 or Year: 2017\n",
      "No data found for State: AK, Year: 2017 or Year: 2016\n",
      "No data found for State: AK, Year: 2016 or Year: 2015\n",
      "No data found for State: AK, Year: 2015 or Year: 2014\n",
      "No data found for State: AK, Year: 2014 or Year: 2013\n",
      "No previous year found for Year: 2013 in State: AK\n",
      "No data found for State: AZ, Year: 2020 or Year: 2019\n",
      "No data found for State: AZ, Year: 2019 or Year: 2018\n",
      "No previous year found for Year: 2013 in State: AZ\n",
      "No previous year found for Year: 2013 in State: AR\n",
      "No previous year found for Year: 2013 in State: CA\n",
      "No previous year found for Year: 2013 in State: CO\n",
      "No previous year found for Year: 2013 in State: CT\n",
      "No previous year found for Year: 2013 in State: DE\n",
      "No data found for State: DC, Year: 2014 or Year: 2013\n",
      "No previous year found for Year: 2013 in State: DC\n",
      "No previous year found for Year: 2013 in State: FL\n",
      "No data found for State: GA, Year: 2020 or Year: 2019\n",
      "No data found for State: GA, Year: 2019 or Year: 2018\n",
      "No data found for State: GA, Year: 2018 or Year: 2017\n",
      "No data found for State: GA, Year: 2017 or Year: 2016\n",
      "No data found for State: GA, Year: 2016 or Year: 2015\n",
      "No data found for State: GA, Year: 2015 or Year: 2014\n",
      "No data found for State: GA, Year: 2014 or Year: 2013\n",
      "No previous year found for Year: 2013 in State: GA\n",
      "No previous year found for Year: 2013 in State: HI\n",
      "No previous year found for Year: 2013 in State: ID\n",
      "No previous year found for Year: 2013 in State: IL\n",
      "No previous year found for Year: 2013 in State: IN\n",
      "No previous year found for Year: 2013 in State: IA\n",
      "No data found for State: KS, Year: 2020 or Year: 2019\n",
      "No data found for State: KS, Year: 2019 or Year: 2018\n",
      "No data found for State: KS, Year: 2018 or Year: 2017\n",
      "No data found for State: KS, Year: 2017 or Year: 2016\n",
      "No data found for State: KS, Year: 2016 or Year: 2015\n",
      "No data found for State: KS, Year: 2015 or Year: 2014\n",
      "No previous year found for Year: 2013 in State: KS\n",
      "No previous year found for Year: 2013 in State: KY\n",
      "No previous year found for Year: 2013 in State: LA\n",
      "No previous year found for Year: 2013 in State: MA\n",
      "No data found for State: MI, Year: 2017 or Year: 2016\n",
      "No data found for State: MI, Year: 2016 or Year: 2015\n",
      "No data found for State: MI, Year: 2015 or Year: 2014\n",
      "No data found for State: MI, Year: 2014 or Year: 2013\n",
      "No previous year found for Year: 2013 in State: MI\n",
      "No data found for State: MN, Year: 2014 or Year: 2013\n",
      "No previous year found for Year: 2013 in State: MN\n",
      "No previous year found for Year: 2013 in State: MS\n",
      "No previous year found for Year: 2013 in State: MO\n",
      "No previous year found for Year: 2013 in State: MT\n",
      "No previous year found for Year: 2013 in State: NE\n",
      "No previous year found for Year: 2013 in State: NV\n",
      "No previous year found for Year: 2013 in State: NJ\n",
      "No previous year found for Year: 2013 in State: NM\n",
      "No previous year found for Year: 2013 in State: NY\n",
      "No previous year found for Year: 2013 in State: NC\n",
      "No previous year found for Year: 2013 in State: ND\n",
      "No previous year found for Year: 2013 in State: OH\n",
      "No previous year found for Year: 2013 in State: OK\n",
      "No previous year found for Year: 2013 in State: OR\n",
      "No data found for State: PA, Year: 2016 or Year: 2015\n",
      "No data found for State: PA, Year: 2015 or Year: 2014\n",
      "No previous year found for Year: 2013 in State: PA\n",
      "No previous year found for Year: 2013 in State: RI\n",
      "No previous year found for Year: 2013 in State: SC\n",
      "No previous year found for Year: 2013 in State: SD\n",
      "No previous year found for Year: 2013 in State: TN\n",
      "No previous year found for Year: 2013 in State: TX\n",
      "No previous year found for Year: 2013 in State: UT\n",
      "No previous year found for Year: 2013 in State: VT\n",
      "No previous year found for Year: 2013 in State: VA\n",
      "No previous year found for Year: 2013 in State: WA\n",
      "No previous year found for Year: 2013 in State: WI\n",
      "No previous year found for Year: 2013 in State: WY\n",
      "showing data\n",
      "300\n"
     ]
    }
   ],
   "source": [
    "test_df = original_df.copy()\n",
    "test_df = generateChangeDataFeatureColumns(test_df, \"mean_ADHD\")\n",
    "print(\"showing data\")\n",
    "print(len(test_df[\"mean_ADHD_val_change\"].tolist()))\n",
    "\n"
   ]
  },
  {
   "cell_type": "code",
   "execution_count": 72,
   "metadata": {},
   "outputs": [
    {
     "name": "stdout",
     "output_type": "stream",
     "text": [
      "0     -0.024138\n",
      "47     0.050725\n",
      "91    -0.028169\n",
      "135    0.100775\n",
      "179   -0.047970\n",
      "         ...   \n",
      "134   -0.004367\n",
      "178    0.040909\n",
      "221   -0.047619\n",
      "263    0.004348\n",
      "307    0.116505\n",
      "Name: mean_ADHD_perc_change, Length: 300, dtype: float64\n",
      "Value Change for AL in 2018: -0.3333333400000029\n",
      "Percentage Change for AL in 2018: -0.01408450732196005\n",
      "2017 : 23.66666667, 2018 : 23.33333333\n"
     ]
    }
   ],
   "source": [
    "row = test_df[(test_df['STATE'] == 'CT') & (test_df['YEAR'] == 2018)]\n",
    "print(test_df['mean_ADHD_perc_change'])\n",
    "val_change = row['mean_ADHD_val_change'].values[0] \n",
    "perc_change = row['mean_ADHD_perc_change'].values[0] \n",
    "val_2018 = row[\"mean_ADHD\"].values[0]\n",
    "print(f\"Value Change for AL in 2018: {val_change}\") \n",
    "print(f\"Percentage Change for AL in 2018: {perc_change}\")\n",
    "\n",
    "row_2 = test_df[(test_df['STATE'] == 'AL') & (test_df['YEAR'] == 2017)]\n",
    "val_2017 = row_2[\"mean_ADHD\"].values[0]\n",
    "\n",
    "print(f\"2017 : {val_2017}, 2018 : {val_2018}\")"
   ]
  }
 ],
 "metadata": {
  "kernelspec": {
   "display_name": "Python 3",
   "language": "python",
   "name": "python3"
  },
  "language_info": {
   "codemirror_mode": {
    "name": "ipython",
    "version": 3
   },
   "file_extension": ".py",
   "mimetype": "text/x-python",
   "name": "python",
   "nbconvert_exporter": "python",
   "pygments_lexer": "ipython3",
   "version": "3.11.8"
  }
 },
 "nbformat": 4,
 "nbformat_minor": 2
}
