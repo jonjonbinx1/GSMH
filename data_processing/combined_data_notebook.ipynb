{
 "cells": [
  {
   "cell_type": "markdown",
   "id": "a5150988",
   "metadata": {},
   "source": [
    "# Data Aggregation & Combination"
   ]
  },
  {
   "cell_type": "markdown",
   "id": "472d31cd",
   "metadata": {},
   "source": [
    "## Author: Nika Faraji "
   ]
  },
  {
   "cell_type": "markdown",
   "id": "fd5ff576",
   "metadata": {},
   "source": [
    "### Data Science Capstone"
   ]
  },
  {
   "cell_type": "code",
   "execution_count": 1,
   "id": "4d8eae8c",
   "metadata": {},
   "outputs": [],
   "source": [
    "#JH: Just a general note to try and use/define methods where possible, \n",
    "#Ideally we would move our methods into some scripts and import them as a package\n",
    "#This might not make sense if the method is only used in one script so for now I think were okay\n",
    "#but just something we should keep in mind if we find ourselves using the same code over and over\n",
    "\n",
    "import pandas as pd\n",
    "import numpy as np\n",
    "\n",
    "df_2022 = pd.read_csv(\"data/mhcld_puf_2022.csv\")\n",
    "df_2021 = pd.read_csv(\"data/mhcld_puf_2021.csv\")\n",
    "df_2020 = pd.read_csv(\"data/mhcld_puf_2020.csv\")\n",
    "df_2019 = pd.read_csv(\"data/mhcld_puf_2019.csv\")\n",
    "df_2018 = pd.read_csv(\"data/mhcld_puf_2018.csv\")\n",
    "df_2017 = pd.read_csv(\"data/mhcld_puf_2017.csv\")\n",
    "df_2016 = pd.read_csv(\"data/mhcld_puf_2016.csv\")\n",
    "df_2015 = pd.read_csv(\"data/mhcld_puf_2015.csv\")\n",
    "df_2014 = pd.read_csv(\"data/mhcld_puf_2014.csv\")\n",
    "df_2013 = pd.read_csv(\"data/mhcld_puf_2013.csv\")"
   ]
  },
  {
   "cell_type": "code",
   "execution_count": 8,
   "id": "f8f5559f",
   "metadata": {},
   "outputs": [],
   "source": [
    "pop_df = pd.read_csv(\"data/nst-est2020.csv\")"
   ]
  },
  {
   "cell_type": "code",
   "execution_count": 2,
   "id": "68be6111",
   "metadata": {},
   "outputs": [],
   "source": [
    "df_2022 = df_2022.groupby(['STATEFIP', 'YEAR'], as_index=False).sum()\n",
    "df_2021 = df_2021.groupby(['STATEFIP', 'YEAR'], as_index=False).sum()\n",
    "df_2020 = df_2020.groupby(['STATEFIP', 'YEAR'], as_index=False).sum()\n",
    "df_2019 = df_2019.groupby(['STATEFIP', 'YEAR'], as_index=False).sum()\n",
    "df_2018 = df_2018.groupby(['STATEFIP', 'YEAR'], as_index=False).sum()\n",
    "df_2017 = df_2017.groupby(['STATEFIP', 'YEAR'], as_index=False).sum()\n",
    "df_2016 = df_2016.groupby(['STATEFIP', 'YEAR'], as_index=False).sum()\n",
    "df_2015 = df_2015.groupby(['STATEFIP', 'YEAR'], as_index=False).sum()\n",
    "df_2014 = df_2014.groupby(['STATEFIP', 'YEAR'], as_index=False).sum()\n",
    "df_2013 = df_2013.groupby(['STATEFIP', 'YEAR'], as_index=False).sum()\n",
    "\n",
    "\n",
    "merged_df = pd.concat([df_2022, df_2021, df_2020, df_2019, df_2018, df_2017, df_2016, df_2015, df_2014, df_2013], \n",
    "                      ignore_index=True)"
   ]
  },
  {
   "cell_type": "code",
   "execution_count": null,
   "id": "3bf011de",
   "metadata": {},
   "outputs": [],
   "source": [
    "merged_df"
   ]
  },
  {
   "cell_type": "code",
   "execution_count": null,
   "id": "9eaac2a9",
   "metadata": {},
   "outputs": [],
   "source": [
    "df = merged_df[['STATEFIP', 'YEAR', 'ANXIETYFLG', 'TRAUSTREFLG', 'ADHDFLG', 'BIPOLARFLG', 'DEPRESSFLG',\n",
    "        'SPHSERVICE', 'CMPSERVICE', 'OPISERVICE', 'RTCSERVICE']]\n",
    "\n",
    "df['TOT_SERVICE'] = df[['SPHSERVICE', 'CMPSERVICE', 'OPISERVICE', 'RTCSERVICE']].sum(axis=1)\n",
    "\n",
    "df"
   ]
  },
  {
   "cell_type": "code",
   "execution_count": null,
   "id": "dcf16cff",
   "metadata": {},
   "outputs": [],
   "source": [
    "state_code_to_name = {\n",
    "    1: 'AL', 2: 'AK', 4: 'AZ', 5: 'AR', 6: 'CA', 8: 'CO', 9: 'CT', 10: 'DE', 11: 'DC',\n",
    "    12: 'FL', 13: 'GA', 15: 'HI', 16: 'ID', 17: 'IL', 18: 'IN', 19: 'IA', 20: 'KS',\n",
    "    21: 'KY', 22: 'LA', 25: 'MA', 26: 'MI', 27: 'MN', 28: 'MS',\n",
    "    29: 'MO', 30: 'MT', 31: 'NE', 32: 'NV', 34: 'NJ', 35: 'NM', 36: 'NY',\n",
    "    37: 'NC', 38: 'ND', 39: 'OH', 40: 'OK', 41: 'OR', 42: 'PA', 44: 'RI', 45: 'SC',\n",
    "    46: 'SD', 47: 'TN', 48: 'TX', 49: 'UT', 50: 'VT', 51: 'VA', 53: 'WA',\n",
    "    55: 'WI', 56: 'WY', 72: 'PR', 99: 'Other'\n",
    "}\n",
    "\n",
    "# Map the state codes to state names\n",
    "df['STATE'] = df['STATEFIP'].map(state_code_to_name)\n",
    "df"
   ]
  },
  {
   "cell_type": "code",
   "execution_count": null,
   "id": "612cbbdb",
   "metadata": {
    "scrolled": true
   },
   "outputs": [],
   "source": [
    "# Reshape the DataFrame using pd.melt()\n",
    "df_long = pd.melt(pop_df, id_vars=['STATE', 'NAME'], var_name='YEAR', value_name='POPESTIMATE')\n",
    "\n",
    "# Clean up the 'Year' column by extracting the year number from the column names\n",
    "df_long['YEAR'] = df_long['YEAR'].str.extract('(\\d{4})')\n",
    "df_long['YEAR'] = df_long['YEAR'].astype(int)\n",
    "\n",
    "df_long"
   ]
  },
  {
   "cell_type": "code",
   "execution_count": null,
   "id": "63be59c0",
   "metadata": {},
   "outputs": [],
   "source": [
    "data = pd.merge(df, df_long, left_on=['STATEFIP', 'YEAR'], right_on=['STATE', 'YEAR'], how='inner')\n",
    "data = data.drop('STATE_y', axis=1)\n",
    "data['UTIL_RATE'] = data['TOT_SERVICE']/data['POPESTIMATE']\n",
    "data"
   ]
  },
  {
   "cell_type": "code",
   "execution_count": null,
   "id": "f48439db",
   "metadata": {},
   "outputs": [],
   "source": [
    "trend_df = pd.read_csv(\"data/pytrends_data.csv\")\n",
    "\n",
    "# Split 'key' column into 'state' and 'year' columns\n",
    "trend_df[['country_state', 'year']] = trend_df['key'].str.split('_', expand=True)\n",
    "trend_df['state'] = trend_df['country_state'].str[-2:]  # Extract the state abbreviation from the country_state part\n",
    "trend_df['year'] = trend_df['year'].astype(int)  # Convert year to integer\n",
    "trend_df = trend_df.drop(['key', 'country_state', 'Unnamed: 0'], axis=1) #remove uneeded columns\n",
    "\n",
    "trend_df"
   ]
  },
  {
   "cell_type": "code",
   "execution_count": null,
   "id": "13f0a791",
   "metadata": {},
   "outputs": [],
   "source": [
    "#merge health data & trend data on year & state\n",
    "data_1 = pd.merge(data, trend_df, left_on=['STATE_x', 'YEAR'], right_on=['state', 'year'], how='inner')\n",
    "data_1 = data_1.drop('year', axis=1) #remove uneeded columns\n",
    "data_1"
   ]
  },
  {
   "cell_type": "code",
   "execution_count": 13,
   "id": "7e2447fd",
   "metadata": {},
   "outputs": [],
   "source": [
    "data_1.to_csv('data/aggregated_data.csv', index=False)"
   ]
  },
  {
   "cell_type": "code",
   "execution_count": null,
   "id": "340db7f2",
   "metadata": {},
   "outputs": [],
   "source": []
  }
 ],
 "metadata": {
  "kernelspec": {
   "display_name": "Python 3 (ipykernel)",
   "language": "python",
   "name": "python3"
  },
  "language_info": {
   "codemirror_mode": {
    "name": "ipython",
    "version": 3
   },
   "file_extension": ".py",
   "mimetype": "text/x-python",
   "name": "python",
   "nbconvert_exporter": "python",
   "pygments_lexer": "ipython3",
   "version": "3.9.7"
  }
 },
 "nbformat": 4,
 "nbformat_minor": 5
}
