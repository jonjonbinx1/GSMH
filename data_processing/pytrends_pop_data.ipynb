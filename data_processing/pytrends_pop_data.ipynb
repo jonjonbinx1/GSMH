{
 "cells": [
  {
   "cell_type": "code",
   "execution_count": 2,
   "metadata": {},
   "outputs": [],
   "source": [
    "import pandas as pd\n",
    "\n",
    "\n"
   ]
  },
  {
   "cell_type": "code",
   "execution_count": 13,
   "metadata": {},
   "outputs": [],
   "source": [
    "#read csv files\n",
    "pytrend_df = pd.read_csv(\"../data/pytrends_data.csv\")\n",
    "pop_df = pd.read_csv(\"../data/aggregated_data.csv\")"
   ]
  },
  {
   "cell_type": "code",
   "execution_count": 14,
   "metadata": {},
   "outputs": [
    {
     "name": "stdout",
     "output_type": "stream",
     "text": [
      "0      AK_2013\n",
      "1      AK_2014\n",
      "2      AK_2015\n",
      "3      AK_2016\n",
      "4      AK_2017\n",
      "        ...   \n",
      "607    WY_2020\n",
      "608    WY_2021\n",
      "609    WY_2022\n",
      "610    WY_2023\n",
      "611    WY_2024\n",
      "Name: key, Length: 612, dtype: object\n",
      "0      AL_2020\n",
      "1      AK_2020\n",
      "2      AZ_2020\n",
      "3      AR_2020\n",
      "4      CA_2020\n",
      "        ...   \n",
      "345    VT_2013\n",
      "346    VA_2013\n",
      "347    WA_2013\n",
      "348    WI_2013\n",
      "349    WY_2013\n",
      "Name: key, Length: 350, dtype: object\n"
     ]
    }
   ],
   "source": [
    "#correct key columns\n",
    "pytrend_df['key'] = pytrend_df['key'].str.replace(\"US-\", \"\")\n",
    "print(pytrend_df['key'])\n",
    "pop_df['key'] = pop_df['STATE'] + \"_\" + pop_df[\"YEAR\"].astype(str)\n",
    "print(pop_df['key'])"
   ]
  },
  {
   "cell_type": "code",
   "execution_count": 16,
   "metadata": {},
   "outputs": [
    {
     "name": "stdout",
     "output_type": "stream",
     "text": [
      "     Unnamed: 0      key  max_ADHD_x  max_PTSD_x  max_anxiety_x  \\\n",
      "0             6  AK_2019        37.0        22.0           86.0   \n",
      "1             7  AK_2020        37.0        21.0           94.0   \n",
      "2            12  AL_2013        28.0        11.0           52.0   \n",
      "3            13  AL_2014        29.0        13.0           54.0   \n",
      "4            14  AL_2015        27.0        15.0           63.0   \n",
      "..          ...      ...         ...         ...            ...   \n",
      "345         603  WY_2016        25.0        17.0           65.0   \n",
      "346         604  WY_2017        26.0        19.0           74.0   \n",
      "347         605  WY_2018        28.0        18.0           78.0   \n",
      "348         606  WY_2019        31.0        22.0           83.0   \n",
      "349         607  WY_2020        29.0        18.0           79.0   \n",
      "\n",
      "     max_bipolar_x  max_depression_x  max_mental hospital_x  \\\n",
      "0             23.0              98.0                   62.0   \n",
      "1             28.0              85.0                  100.0   \n",
      "2             25.0              77.0                   50.0   \n",
      "3             26.0              78.0                   40.0   \n",
      "4             26.0              85.0                   36.0   \n",
      "..             ...               ...                    ...   \n",
      "345           27.0              89.0                  100.0   \n",
      "346           26.0              87.0                    0.0   \n",
      "347           25.0              80.0                    0.0   \n",
      "348           21.0              84.0                    0.0   \n",
      "349           21.0              82.0                    0.0   \n",
      "\n",
      "     max_psychiatrists near me_x  max_psychologist near me_x  ...  \\\n",
      "0                            0.0                         0.0  ...   \n",
      "1                            0.0                         0.0  ...   \n",
      "2                            0.0                         0.0  ...   \n",
      "3                            0.0                         0.0  ...   \n",
      "4                            0.0                         0.0  ...   \n",
      "..                           ...                         ...  ...   \n",
      "345                          0.0                         0.0  ...   \n",
      "346                          0.0                         0.0  ...   \n",
      "347                          0.0                         0.0  ...   \n",
      "348                          0.0                         0.0  ...   \n",
      "349                          0.0                        60.0  ...   \n",
      "\n",
      "     median_therapist near me_y  min_ADHD_y  min_PTSD_y  min_anxiety_y  \\\n",
      "0                           0.0          21          11             67   \n",
      "1                           0.0          21           8             67   \n",
      "2                           0.0          20           6             41   \n",
      "3                           0.0          17           8             43   \n",
      "4                           0.0          18          10             52   \n",
      "..                          ...         ...         ...            ...   \n",
      "345                         0.0          14           8             51   \n",
      "346                         0.0          10           0             51   \n",
      "347                         0.0          11          10             60   \n",
      "348                         0.0          14          11             57   \n",
      "349                         0.0          17          10             58   \n",
      "\n",
      "     min_bipolar_y  min_depression_y  min_mental hospital_y  \\\n",
      "0               15                58                      0   \n",
      "1               15                63                      0   \n",
      "2               20                45                     19   \n",
      "3               20                47                     27   \n",
      "4               20                50                     23   \n",
      "..             ...               ...                    ...   \n",
      "345             11                50                      0   \n",
      "346             13                45                      0   \n",
      "347             14                52                      0   \n",
      "348             13                51                      0   \n",
      "349             15                47                      0   \n",
      "\n",
      "     min_psychiatrists near me_y  min_psychologist near me_y  \\\n",
      "0                              0                           0   \n",
      "1                              0                           0   \n",
      "2                              0                           0   \n",
      "3                              0                           0   \n",
      "4                              0                           0   \n",
      "..                           ...                         ...   \n",
      "345                            0                           0   \n",
      "346                            0                           0   \n",
      "347                            0                           0   \n",
      "348                            0                           0   \n",
      "349                            0                           0   \n",
      "\n",
      "     min_therapist near me_y  \n",
      "0                          0  \n",
      "1                          0  \n",
      "2                          0  \n",
      "3                          0  \n",
      "4                          0  \n",
      "..                       ...  \n",
      "345                        0  \n",
      "346                        0  \n",
      "347                        0  \n",
      "348                        0  \n",
      "349                        0  \n",
      "\n",
      "[350 rows x 89 columns]\n"
     ]
    }
   ],
   "source": [
    "#join pytrends to pop, drop pytrends if key isnt present, write to csv\n",
    "\n",
    "merged_df = pd.merge(pytrend_df, pop_df, on='key', how='inner')\n",
    "print(merged_df)\n",
    "\n",
    "merged_df.to_csv(\"../data/merged_data.csv\")"
   ]
  }
 ],
 "metadata": {
  "kernelspec": {
   "display_name": "Python 3",
   "language": "python",
   "name": "python3"
  },
  "language_info": {
   "codemirror_mode": {
    "name": "ipython",
    "version": 3
   },
   "file_extension": ".py",
   "mimetype": "text/x-python",
   "name": "python",
   "nbconvert_exporter": "python",
   "pygments_lexer": "ipython3",
   "version": "3.11.8"
  }
 },
 "nbformat": 4,
 "nbformat_minor": 2
}
