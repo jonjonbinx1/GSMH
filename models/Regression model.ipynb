{
 "cells": [
  {
   "cell_type": "markdown",
   "id": "3b8da8ae",
   "metadata": {},
   "source": [
    "# Regression modeling"
   ]
  },
  {
   "cell_type": "markdown",
   "id": "d64e582e",
   "metadata": {},
   "source": [
    "## Author: Nika Faraji"
   ]
  },
  {
   "cell_type": "markdown",
   "id": "58e9f746",
   "metadata": {},
   "source": [
    "### This notebook goes through the cycle of training and testing a model. Includes OLS regression and Randm Forest model training and testing results"
   ]
  },
  {
   "cell_type": "code",
   "execution_count": 1,
   "id": "1dea3120",
   "metadata": {},
   "outputs": [
    {
     "data": {
      "text/html": [
       "<div>\n",
       "<style scoped>\n",
       "    .dataframe tbody tr th:only-of-type {\n",
       "        vertical-align: middle;\n",
       "    }\n",
       "\n",
       "    .dataframe tbody tr th {\n",
       "        vertical-align: top;\n",
       "    }\n",
       "\n",
       "    .dataframe thead th {\n",
       "        text-align: right;\n",
       "    }\n",
       "</style>\n",
       "<table border=\"1\" class=\"dataframe\">\n",
       "  <thead>\n",
       "    <tr style=\"text-align: right;\">\n",
       "      <th></th>\n",
       "      <th>state_id</th>\n",
       "      <th>year</th>\n",
       "      <th>anxiety_ct</th>\n",
       "      <th>PTSD_ct</th>\n",
       "      <th>ADHD_ct</th>\n",
       "      <th>bipolar_ct</th>\n",
       "      <th>depression_ct</th>\n",
       "      <th>total_service</th>\n",
       "      <th>population_est</th>\n",
       "      <th>util_rate</th>\n",
       "      <th>max_ADHD</th>\n",
       "      <th>max_PTSD</th>\n",
       "      <th>max_anxiety</th>\n",
       "      <th>max_bipolar</th>\n",
       "      <th>max_depression</th>\n",
       "      <th>max_mental hospital</th>\n",
       "      <th>max_psychiatrists near me</th>\n",
       "      <th>max_psychologist near me</th>\n",
       "      <th>max_therapist near me</th>\n",
       "      <th>tgt_util_rate</th>\n",
       "    </tr>\n",
       "  </thead>\n",
       "  <tbody>\n",
       "    <tr>\n",
       "      <th>400</th>\n",
       "      <td>1</td>\n",
       "      <td>2013</td>\n",
       "      <td>14529</td>\n",
       "      <td>10242</td>\n",
       "      <td>15485</td>\n",
       "      <td>17877</td>\n",
       "      <td>30291</td>\n",
       "      <td>678407</td>\n",
       "      <td>4831586</td>\n",
       "      <td>0.140411</td>\n",
       "      <td>28</td>\n",
       "      <td>11</td>\n",
       "      <td>52</td>\n",
       "      <td>25</td>\n",
       "      <td>77</td>\n",
       "      <td>50</td>\n",
       "      <td>0</td>\n",
       "      <td>0</td>\n",
       "      <td>0</td>\n",
       "      <td>0.135877</td>\n",
       "    </tr>\n",
       "    <tr>\n",
       "      <th>356</th>\n",
       "      <td>1</td>\n",
       "      <td>2014</td>\n",
       "      <td>14618</td>\n",
       "      <td>9797</td>\n",
       "      <td>15268</td>\n",
       "      <td>17473</td>\n",
       "      <td>28848</td>\n",
       "      <td>658152</td>\n",
       "      <td>4843737</td>\n",
       "      <td>0.135877</td>\n",
       "      <td>29</td>\n",
       "      <td>13</td>\n",
       "      <td>54</td>\n",
       "      <td>26</td>\n",
       "      <td>78</td>\n",
       "      <td>40</td>\n",
       "      <td>0</td>\n",
       "      <td>0</td>\n",
       "      <td>0</td>\n",
       "      <td>0.145889</td>\n",
       "    </tr>\n",
       "    <tr>\n",
       "      <th>314</th>\n",
       "      <td>1</td>\n",
       "      <td>2015</td>\n",
       "      <td>15720</td>\n",
       "      <td>11619</td>\n",
       "      <td>16558</td>\n",
       "      <td>18553</td>\n",
       "      <td>30669</td>\n",
       "      <td>708264</td>\n",
       "      <td>4854803</td>\n",
       "      <td>0.145889</td>\n",
       "      <td>27</td>\n",
       "      <td>15</td>\n",
       "      <td>63</td>\n",
       "      <td>26</td>\n",
       "      <td>85</td>\n",
       "      <td>36</td>\n",
       "      <td>0</td>\n",
       "      <td>0</td>\n",
       "      <td>0</td>\n",
       "      <td>0.149509</td>\n",
       "    </tr>\n",
       "    <tr>\n",
       "      <th>271</th>\n",
       "      <td>1</td>\n",
       "      <td>2016</td>\n",
       "      <td>13406</td>\n",
       "      <td>10582</td>\n",
       "      <td>15078</td>\n",
       "      <td>12680</td>\n",
       "      <td>30570</td>\n",
       "      <td>727636</td>\n",
       "      <td>4866824</td>\n",
       "      <td>0.149509</td>\n",
       "      <td>24</td>\n",
       "      <td>15</td>\n",
       "      <td>70</td>\n",
       "      <td>28</td>\n",
       "      <td>82</td>\n",
       "      <td>40</td>\n",
       "      <td>0</td>\n",
       "      <td>0</td>\n",
       "      <td>10</td>\n",
       "      <td>0.148720</td>\n",
       "    </tr>\n",
       "    <tr>\n",
       "      <th>227</th>\n",
       "      <td>1</td>\n",
       "      <td>2017</td>\n",
       "      <td>13683</td>\n",
       "      <td>11256</td>\n",
       "      <td>15612</td>\n",
       "      <td>12535</td>\n",
       "      <td>29660</td>\n",
       "      <td>725455</td>\n",
       "      <td>4877989</td>\n",
       "      <td>0.148720</td>\n",
       "      <td>27</td>\n",
       "      <td>15</td>\n",
       "      <td>75</td>\n",
       "      <td>23</td>\n",
       "      <td>85</td>\n",
       "      <td>37</td>\n",
       "      <td>8</td>\n",
       "      <td>7</td>\n",
       "      <td>22</td>\n",
       "      <td>0.146167</td>\n",
       "    </tr>\n",
       "    <tr>\n",
       "      <th>...</th>\n",
       "      <td>...</td>\n",
       "      <td>...</td>\n",
       "      <td>...</td>\n",
       "      <td>...</td>\n",
       "      <td>...</td>\n",
       "      <td>...</td>\n",
       "      <td>...</td>\n",
       "      <td>...</td>\n",
       "      <td>...</td>\n",
       "      <td>...</td>\n",
       "      <td>...</td>\n",
       "      <td>...</td>\n",
       "      <td>...</td>\n",
       "      <td>...</td>\n",
       "      <td>...</td>\n",
       "      <td>...</td>\n",
       "      <td>...</td>\n",
       "      <td>...</td>\n",
       "      <td>...</td>\n",
       "      <td>...</td>\n",
       "    </tr>\n",
       "    <tr>\n",
       "      <th>226</th>\n",
       "      <td>56</td>\n",
       "      <td>2018</td>\n",
       "      <td>4146</td>\n",
       "      <td>3893</td>\n",
       "      <td>1391</td>\n",
       "      <td>1674</td>\n",
       "      <td>5630</td>\n",
       "      <td>113785</td>\n",
       "      <td>579054</td>\n",
       "      <td>0.196502</td>\n",
       "      <td>28</td>\n",
       "      <td>18</td>\n",
       "      <td>78</td>\n",
       "      <td>25</td>\n",
       "      <td>80</td>\n",
       "      <td>0</td>\n",
       "      <td>0</td>\n",
       "      <td>0</td>\n",
       "      <td>0</td>\n",
       "      <td>0.201706</td>\n",
       "    </tr>\n",
       "    <tr>\n",
       "      <th>182</th>\n",
       "      <td>56</td>\n",
       "      <td>2019</td>\n",
       "      <td>4764</td>\n",
       "      <td>4024</td>\n",
       "      <td>1385</td>\n",
       "      <td>1721</td>\n",
       "      <td>5874</td>\n",
       "      <td>117013</td>\n",
       "      <td>580116</td>\n",
       "      <td>0.201706</td>\n",
       "      <td>31</td>\n",
       "      <td>22</td>\n",
       "      <td>83</td>\n",
       "      <td>21</td>\n",
       "      <td>84</td>\n",
       "      <td>0</td>\n",
       "      <td>0</td>\n",
       "      <td>0</td>\n",
       "      <td>0</td>\n",
       "      <td>0.194399</td>\n",
       "    </tr>\n",
       "    <tr>\n",
       "      <th>138</th>\n",
       "      <td>56</td>\n",
       "      <td>2020</td>\n",
       "      <td>4636</td>\n",
       "      <td>3860</td>\n",
       "      <td>1321</td>\n",
       "      <td>1671</td>\n",
       "      <td>5861</td>\n",
       "      <td>113204</td>\n",
       "      <td>582328</td>\n",
       "      <td>0.194399</td>\n",
       "      <td>29</td>\n",
       "      <td>18</td>\n",
       "      <td>79</td>\n",
       "      <td>21</td>\n",
       "      <td>82</td>\n",
       "      <td>0</td>\n",
       "      <td>0</td>\n",
       "      <td>60</td>\n",
       "      <td>81</td>\n",
       "      <td>0.171900</td>\n",
       "    </tr>\n",
       "    <tr>\n",
       "      <th>91</th>\n",
       "      <td>56</td>\n",
       "      <td>2021</td>\n",
       "      <td>4421</td>\n",
       "      <td>3476</td>\n",
       "      <td>1158</td>\n",
       "      <td>1571</td>\n",
       "      <td>5176</td>\n",
       "      <td>99613</td>\n",
       "      <td>579483</td>\n",
       "      <td>0.171900</td>\n",
       "      <td>42</td>\n",
       "      <td>20</td>\n",
       "      <td>79</td>\n",
       "      <td>32</td>\n",
       "      <td>65</td>\n",
       "      <td>0</td>\n",
       "      <td>0</td>\n",
       "      <td>0</td>\n",
       "      <td>79</td>\n",
       "      <td>0.169459</td>\n",
       "    </tr>\n",
       "    <tr>\n",
       "      <th>46</th>\n",
       "      <td>56</td>\n",
       "      <td>2022</td>\n",
       "      <td>4811</td>\n",
       "      <td>3565</td>\n",
       "      <td>1231</td>\n",
       "      <td>1447</td>\n",
       "      <td>5084</td>\n",
       "      <td>98520</td>\n",
       "      <td>581381</td>\n",
       "      <td>0.169459</td>\n",
       "      <td>54</td>\n",
       "      <td>18</td>\n",
       "      <td>82</td>\n",
       "      <td>26</td>\n",
       "      <td>70</td>\n",
       "      <td>77</td>\n",
       "      <td>0</td>\n",
       "      <td>0</td>\n",
       "      <td>74</td>\n",
       "      <td>NaN</td>\n",
       "    </tr>\n",
       "  </tbody>\n",
       "</table>\n",
       "<p>442 rows × 20 columns</p>\n",
       "</div>"
      ],
      "text/plain": [
       "     state_id  year  anxiety_ct  PTSD_ct  ADHD_ct  bipolar_ct  depression_ct  \\\n",
       "400         1  2013       14529    10242    15485       17877          30291   \n",
       "356         1  2014       14618     9797    15268       17473          28848   \n",
       "314         1  2015       15720    11619    16558       18553          30669   \n",
       "271         1  2016       13406    10582    15078       12680          30570   \n",
       "227         1  2017       13683    11256    15612       12535          29660   \n",
       "..        ...   ...         ...      ...      ...         ...            ...   \n",
       "226        56  2018        4146     3893     1391        1674           5630   \n",
       "182        56  2019        4764     4024     1385        1721           5874   \n",
       "138        56  2020        4636     3860     1321        1671           5861   \n",
       "91         56  2021        4421     3476     1158        1571           5176   \n",
       "46         56  2022        4811     3565     1231        1447           5084   \n",
       "\n",
       "     total_service  population_est  util_rate  max_ADHD  max_PTSD  \\\n",
       "400         678407         4831586   0.140411        28        11   \n",
       "356         658152         4843737   0.135877        29        13   \n",
       "314         708264         4854803   0.145889        27        15   \n",
       "271         727636         4866824   0.149509        24        15   \n",
       "227         725455         4877989   0.148720        27        15   \n",
       "..             ...             ...        ...       ...       ...   \n",
       "226         113785          579054   0.196502        28        18   \n",
       "182         117013          580116   0.201706        31        22   \n",
       "138         113204          582328   0.194399        29        18   \n",
       "91           99613          579483   0.171900        42        20   \n",
       "46           98520          581381   0.169459        54        18   \n",
       "\n",
       "     max_anxiety  max_bipolar  max_depression  max_mental hospital  \\\n",
       "400           52           25              77                   50   \n",
       "356           54           26              78                   40   \n",
       "314           63           26              85                   36   \n",
       "271           70           28              82                   40   \n",
       "227           75           23              85                   37   \n",
       "..           ...          ...             ...                  ...   \n",
       "226           78           25              80                    0   \n",
       "182           83           21              84                    0   \n",
       "138           79           21              82                    0   \n",
       "91            79           32              65                    0   \n",
       "46            82           26              70                   77   \n",
       "\n",
       "     max_psychiatrists near me  max_psychologist near me  \\\n",
       "400                          0                         0   \n",
       "356                          0                         0   \n",
       "314                          0                         0   \n",
       "271                          0                         0   \n",
       "227                          8                         7   \n",
       "..                         ...                       ...   \n",
       "226                          0                         0   \n",
       "182                          0                         0   \n",
       "138                          0                        60   \n",
       "91                           0                         0   \n",
       "46                           0                         0   \n",
       "\n",
       "     max_therapist near me  tgt_util_rate  \n",
       "400                      0       0.135877  \n",
       "356                      0       0.145889  \n",
       "314                      0       0.149509  \n",
       "271                     10       0.148720  \n",
       "227                     22       0.146167  \n",
       "..                     ...            ...  \n",
       "226                      0       0.201706  \n",
       "182                      0       0.194399  \n",
       "138                     81       0.171900  \n",
       "91                      79       0.169459  \n",
       "46                      74            NaN  \n",
       "\n",
       "[442 rows x 20 columns]"
      ]
     },
     "execution_count": 1,
     "metadata": {},
     "output_type": "execute_result"
    }
   ],
   "source": [
    "import sys\n",
    "import numpy as np\n",
    "import pandas as pd\n",
    "from sklearn.model_selection import train_test_split\n",
    "from sklearn.linear_model import LinearRegression\n",
    "from sklearn.metrics import mean_squared_error, r2_score\n",
    "from sklearn.preprocessing import StandardScaler\n",
    "\n",
    "\n",
    "df = pd.read_csv('data/aggregated_data_renamed.csv')\n",
    "df = df.sort_values(by=['state_id', 'year'])\n",
    "\n",
    "# Add the tgt_util_rate column which is the util_rate for the state at the following year\n",
    "df['tgt_util_rate'] = df.groupby('state_id')['util_rate'].shift(-1)\n",
    "df"
   ]
  },
  {
   "cell_type": "code",
   "execution_count": 2,
   "id": "6f3a43da",
   "metadata": {},
   "outputs": [],
   "source": [
    "#Custom funtion to add features missing in dataset\n",
    "def add_previous_year_features(df, feature_cols):\n",
    "    # Sort the DataFrame by state_id and year\n",
    "    df = df.sort_values(by=['state_id', 'year'])\n",
    "    \n",
    "    # Add the previous year's util rate\n",
    "    df['prev_util_rate'] = df.groupby('state_id')['util_rate'].shift(1)\n",
    "    \n",
    "    # List to store new feature columns\n",
    "    new_feature_cols = ['prev_util_rate']\n",
    "    \n",
    "    # Add the previous year's values for each feature column\n",
    "    for col in feature_cols:\n",
    "        new_col = f'prev_{col}'\n",
    "        df[new_col] = df.groupby('state_id')[col].shift(1)\n",
    "        new_feature_cols.append(new_col)\n",
    "    \n",
    "    return df, new_feature_cols"
   ]
  },
  {
   "cell_type": "code",
   "execution_count": 3,
   "id": "eda7591d",
   "metadata": {},
   "outputs": [],
   "source": [
    "feature_cols = [\n",
    "    \"max_ADHD\", \"max_PTSD\", \"max_anxiety\", \"max_bipolar\", \"max_depression\",\n",
    "     \"max_mental hospital\", \"max_psychiatrists near me\", \"max_psychologist near me\", \"max_therapist near me\",\n",
    "]\n",
    "\n",
    "df, feature_cols = add_previous_year_features(df, feature_cols)\n",
    "\n",
    "df = df.groupby('state_id').apply(lambda group: group.iloc[1:-1]).reset_index(drop=True)\n",
    "\n",
    "# Drop rows where `tgt_util_rate` is Empty\n",
    "df = df.dropna(subset=['util_rate', 'tgt_util_rate'])\n",
    "\n",
    "\n",
    "# Split the data into training and testing sets based on the values from Professors formula\n",
    "X = df[feature_cols]\n",
    "y = df['tgt_util_rate']\n",
    "X_train, X_test, y_train, y_test = train_test_split(X, y, test_size=0.2, random_state=42)\n",
    "\n",
    "# Standardize the data\n",
    "#scaler = StandardScaler()\n",
    "#X_train = scaler.fit_transform(X_train)\n",
    "#X_test = scaler.transform(X_test)"
   ]
  },
  {
   "cell_type": "code",
   "execution_count": 114,
   "id": "5dbbadce",
   "metadata": {},
   "outputs": [
    {
     "name": "stdout",
     "output_type": "stream",
     "text": [
      "Mean Squared Error: 0.00\n",
      "R² Score: 0.91\n"
     ]
    }
   ],
   "source": [
    "# Initialize and train the linear regression model\n",
    "model = LinearRegression()\n",
    "model.fit(X_train, y_train)\n",
    "\n",
    "# Make predictions\n",
    "y_pred = model.predict(X_test)\n",
    "\n",
    "# Evaluate the model\n",
    "mse = mean_squared_error(y_test, y_pred)\n",
    "r2 = r2_score(y_test, y_pred)\n",
    "\n",
    "# Display results\n",
    "print(f\"Mean Squared Error: {mse:.2f}\")\n",
    "print(f\"R² Score: {r2:.2f}\")"
   ]
  },
  {
   "cell_type": "code",
   "execution_count": 115,
   "id": "d199353c",
   "metadata": {},
   "outputs": [
    {
     "name": "stdout",
     "output_type": "stream",
     "text": [
      "Variance of target (util_rate): 0.01642346333288608\n"
     ]
    }
   ],
   "source": [
    "print(\"Variance of target (util_rate):\", y.var())"
   ]
  },
  {
   "cell_type": "code",
   "execution_count": 5,
   "id": "a4999e03",
   "metadata": {},
   "outputs": [
    {
     "name": "stdout",
     "output_type": "stream",
     "text": [
      "Out-of-Bag Score: 0.8474343973501346\n",
      "Mean Squared Error: 0.003198237785729331\n",
      "R-squared: 0.838367078141548\n"
     ]
    },
    {
     "name": "stderr",
     "output_type": "stream",
     "text": [
      "C:\\Users\\farajin1\\Anaconda3\\lib\\site-packages\\sklearn\\ensemble\\_forest.py:560: UserWarning: Some inputs do not have OOB scores. This probably means too few trees were used to compute any reliable OOB estimates.\n",
      "  warn(\n"
     ]
    }
   ],
   "source": [
    "from sklearn.ensemble import RandomForestRegressor\n",
    "\n",
    "#Random Forest Regression \n",
    "regressor = RandomForestRegressor(n_estimators=10, random_state=0, oob_score=True)\n",
    "regressor.fit(X_train, y_train)\n",
    "\n",
    "\n",
    "#make predictions\n",
    "y_pred = regressor.predict(X_test)\n",
    "\n",
    "# out-of-bag score\n",
    "oob_score = regressor.oob_score_\n",
    "\n",
    "# Evaluating the model\n",
    "mse = mean_squared_error(y_test, y_pred)\n",
    "r2 = r2_score(y_test, y_pred)\n",
    "\n",
    "print(f'Out-of-Bag Score: {oob_score}')\n",
    "print(f'Mean Squared Error: {mse}')\n",
    "print(f'R-squared: {r2}')"
   ]
  },
  {
   "cell_type": "code",
   "execution_count": 6,
   "id": "ed2c6059",
   "metadata": {},
   "outputs": [
    {
     "name": "stdout",
     "output_type": "stream",
     "text": [
      "Best Parameters: {'max_depth': 15, 'max_features': 'sqrt', 'min_samples_leaf': 2, 'min_samples_split': 2, 'n_estimators': 100}\n"
     ]
    }
   ],
   "source": [
    "from sklearn.model_selection import GridSearchCV\n",
    "\n",
    "# Define the parameter grid\n",
    "param_grid = {\n",
    "    'n_estimators': [100, 200, 300],\n",
    "    'max_depth': [5, 10, 15],\n",
    "    'min_samples_split': [2, 5, 10],\n",
    "    'min_samples_leaf': [1, 2, 5],\n",
    "    'max_features': ['sqrt', 'log2']\n",
    "}\n",
    "\n",
    "# Perform Grid Search\n",
    "grid_search = GridSearchCV(\n",
    "    estimator=RandomForestRegressor(random_state=42),\n",
    "    param_grid=param_grid,\n",
    "    cv=5,\n",
    "    scoring='neg_mean_squared_error',\n",
    "    n_jobs=-1\n",
    ")\n",
    "grid_search.fit(X_train, y_train)\n",
    "\n",
    "# Best parameters\n",
    "best_params = grid_search.best_params_\n",
    "print(f\"Best Parameters: {best_params}\")"
   ]
  },
  {
   "cell_type": "code",
   "execution_count": 7,
   "id": "18d8e8f7",
   "metadata": {},
   "outputs": [
    {
     "name": "stdout",
     "output_type": "stream",
     "text": [
      "Test MSE: 0.0042398359076673536\n",
      "Test R²: 0.7857266682876176\n",
      "OOB Score: 0.8146809143402987\n"
     ]
    }
   ],
   "source": [
    "# Train Random Forest with tuned hyperparameters\n",
    "rf = RandomForestRegressor(\n",
    "    n_estimators=100,        # Number of trees\n",
    "    max_depth=15,            # Limit depth of trees\n",
    "    min_samples_split=2,     # Minimum samples to split a node\n",
    "    min_samples_leaf=2,      # Minimum samples in a leaf node\n",
    "    max_features='sqrt',     # Number of features to consider for each split\n",
    "    random_state=42,         # Ensures reproducibility\n",
    "    oob_score=True           # Enables OOB score\n",
    ")\n",
    "\n",
    "rf.fit(X_train, y_train)\n",
    "\n",
    "# Make predictions\n",
    "y_pred = rf.predict(X_test)\n",
    "\n",
    "# Evaluate the model\n",
    "mse = mean_squared_error(y_test, y_pred)\n",
    "r2 = r2_score(y_test, y_pred)\n",
    "\n",
    "print(f\"Test MSE: {mse}\")\n",
    "print(f\"Test R²: {r2}\")\n",
    "print(f\"OOB Score: {rf.oob_score_}\")"
   ]
  },
  {
   "cell_type": "code",
   "execution_count": 8,
   "id": "f06e1688",
   "metadata": {},
   "outputs": [
    {
     "data": {
      "image/png": "[encoded data removed]",
      "text/plain": [
       "<Figure size 576x576 with 1 Axes>"
      ]
     },
     "metadata": {
      "needs_background": "light"
     },
     "output_type": "display_data"
    }
   ],
   "source": [
    "import matplotlib.pyplot as plt\n",
    "import seaborn as sns\n",
    "\n",
    "# Actual vs Predicted\n",
    "plt.figure(figsize=(8, 8))\n",
    "sns.scatterplot(x=y_test, y=y_pred, alpha=0.7)\n",
    "plt.plot([y_test.min(), y_test.max()], [y_test.min(), y_test.max()], color='red', linestyle='--')  # Ideal fit line\n",
    "plt.xlabel(\"Actual Values\")\n",
    "plt.ylabel(\"Predicted Values\")\n",
    "plt.title(\"Actual vs Predicted Values\")\n",
    "plt.show()\n"
   ]
  },
  {
   "cell_type": "code",
   "execution_count": 9,
   "id": "f8f88cfe",
   "metadata": {},
   "outputs": [
    {
     "data": {
      "image/png": "[encoded data removed]",
      "text/plain": [
       "<Figure size 576x432 with 1 Axes>"
      ]
     },
     "metadata": {
      "needs_background": "light"
     },
     "output_type": "display_data"
    }
   ],
   "source": [
    "import matplotlib.pyplot as plt\n",
    "import seaborn as sns\n",
    "\n",
    "# Calculate residuals\n",
    "residuals = y_test - y_pred\n",
    "\n",
    "# Plot residuals vs. predicted values\n",
    "plt.figure(figsize=(8, 6))\n",
    "sns.scatterplot(x=y_pred, y=residuals)\n",
    "plt.axhline(0, color='red', linestyle='--')\n",
    "plt.xlabel(\"Predicted Values\")\n",
    "plt.ylabel(\"Residuals\")\n",
    "plt.title(\"Residuals vs. Predicted Values (Linearity Check)\")\n",
    "plt.show()\n"
   ]
  },
  {
   "cell_type": "code",
   "execution_count": 8,
   "id": "7275d3ae",
   "metadata": {},
   "outputs": [
    {
     "name": "stdout",
     "output_type": "stream",
     "text": [
      "Durbin-Watson Statistic: 1.7387121182458511\n"
     ]
    }
   ],
   "source": [
    "from statsmodels.stats.stattools import durbin_watson\n",
    "\n",
    "# Perform Durbin-Watson test\n",
    "dw_stat = durbin_watson(residuals)\n",
    "dw_stat\n",
    "\n",
    "# ~2: No autocorrelation\n",
    "# <2: Positive autocorrelation\n",
    "# >2: Negative autocorrelation"
   ]
  },
  {
   "cell_type": "code",
   "execution_count": 9,
   "id": "df4f8dd5",
   "metadata": {},
   "outputs": [
    {
     "name": "stdout",
     "output_type": "stream",
     "text": [
      "Breusch-Pagan p-value: 0.4144604455956435\n"
     ]
    },
    {
     "name": "stderr",
     "output_type": "stream",
     "text": [
      "C:\\Users\\farajin1\\Anaconda3\\lib\\site-packages\\statsmodels\\tsa\\tsatools.py:142: FutureWarning: In a future version of pandas all arguments of concat except for the argument 'objs' will be keyword-only\n",
      "  x = pd.concat(x[::order], 1)\n"
     ]
    }
   ],
   "source": [
    "from statsmodels.stats.diagnostic import het_breuschpagan\n",
    "import statsmodels.api as sm\n",
    "\n",
    "# Breusch-Pagan test for equal variance\n",
    "exog = sm.add_constant(X_test)  \n",
    "bp_test = het_breuschpagan(residuals, exog)\n",
    "bp_test[1]  #second val is the p-value\n",
    "\n",
    "# Interpretation:\n",
    "# p-value > 0.05: Homoscedasticity (good)\n",
    "# p-value <= 0.05: Heteroscedasticity\n"
   ]
  },
  {
   "cell_type": "code",
   "execution_count": 11,
   "id": "e17cf9f2",
   "metadata": {},
   "outputs": [
    {
     "data": {
      "image/png": "[encoded data removed]",
      "text/plain": [
       "<Figure size 576x432 with 1 Axes>"
      ]
     },
     "metadata": {
      "needs_background": "light"
     },
     "output_type": "display_data"
    },
    {
     "name": "stderr",
     "output_type": "stream",
     "text": [
      "C:\\Users\\farajin1\\Anaconda3\\lib\\site-packages\\statsmodels\\graphics\\gofplots.py:993: UserWarning: marker is redundantly defined by the 'marker' keyword argument and the fmt string \"bo\" (-> marker='o'). The keyword argument will take precedence.\n",
      "  ax.plot(x, y, fmt, **plot_style)\n"
     ]
    },
    {
     "data": {
      "image/png": "[encoded data removed]",
      "text/plain": [
       "<Figure size 432x288 with 1 Axes>"
      ]
     },
     "metadata": {
      "needs_background": "light"
     },
     "output_type": "display_data"
    },
    {
     "name": "stdout",
     "output_type": "stream",
     "text": [
      "Shapiro-Wilk p-value: 5.311703160648662e-11\n"
     ]
    }
   ],
   "source": [
    "from scipy.stats import shapiro\n",
    "import numpy as np\n",
    "\n",
    "# Histogram of residuals\n",
    "plt.figure(figsize=(8, 6))\n",
    "sns.histplot(residuals, kde=True, bins=30)\n",
    "plt.title(\"Histogram of Residuals (Normality Check)\")\n",
    "plt.xlabel(\"Residuals\")\n",
    "plt.show()\n",
    "\n",
    "# Q-Q plot\n",
    "sm.qqplot(residuals, line='45', fit=True)\n",
    "plt.title(\"Q-Q Plot (Normality Check)\")\n",
    "plt.show()\n",
    "\n",
    "# Shapiro-Wilk test\n",
    "shapiro_test = shapiro(residuals)\n",
    "print(\"Shapiro-Wilk p-value:\", shapiro_test.pvalue)\n",
    "# Interpretation:\n",
    "# p-value > 0.05: Residuals are normally distributed (good)\n",
    "# p-value <= 0.05: Residuals deviate from normality\n"
   ]
  },
  {
   "cell_type": "code",
   "execution_count": 119,
   "id": "75a3398d",
   "metadata": {},
   "outputs": [
    {
     "name": "stdout",
     "output_type": "stream",
     "text": [
      "                          Feature         VIF\n",
      "0                  prev_util_rate    4.131146\n",
      "1                   prev_max_ADHD   86.135466\n",
      "2                   prev_max_PTSD   53.826226\n",
      "3                prev_max_anxiety  122.016968\n",
      "4                prev_max_bipolar   90.719755\n",
      "5             prev_max_depression  150.929174\n",
      "6        prev_max_mental hospital    8.107935\n",
      "7  prev_max_psychiatrists near me    1.225824\n",
      "8   prev_max_psychologist near me    2.995910\n",
      "9      prev_max_therapist near me    5.277455\n"
     ]
    }
   ],
   "source": [
    "from statsmodels.stats.outliers_influence import variance_inflation_factor\n",
    "\n",
    "# Compute VIF for each feature\n",
    "vif_data = pd.DataFrame()\n",
    "vif_data[\"Feature\"] = X.columns\n",
    "vif_data[\"VIF\"] = [variance_inflation_factor(X.values, i) for i in range(X.shape[1])]\n",
    "\n",
    "print(vif_data)\n",
    "# Interpretation:\n",
    "# VIF < 5: Low multicollinearity (good)\n",
    "# VIF > 5: Moderate to high multicollinearity\n",
    "# VIF > 10: Very high multicollinearity (problematic)\n"
   ]
  },
  {
   "cell_type": "code",
   "execution_count": null,
   "id": "29b975bc",
   "metadata": {},
   "outputs": [],
   "source": []
  }
 ],
 "metadata": {
  "kernelspec": {
   "display_name": "Python 3 (ipykernel)",
   "language": "python",
   "name": "python3"
  },
  "language_info": {
   "codemirror_mode": {
    "name": "ipython",
    "version": 3
   },
   "file_extension": ".py",
   "mimetype": "text/x-python",
   "name": "python",
   "nbconvert_exporter": "python",
   "pygments_lexer": "ipython3",
   "version": "3.9.7"
  }
 },
 "nbformat": 4,
 "nbformat_minor": 5
}
